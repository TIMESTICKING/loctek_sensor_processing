{
 "cells": [
  {
   "cell_type": "code",
   "execution_count": 9,
   "metadata": {},
   "outputs": [],
   "source": [
    "import numpy as np\n",
    "import torch\n",
    "import torch.nn as nn\n",
    "import torch.nn.functional as F\n",
    "from preprocess import make_dataset\n",
    "import torch.optim as optim\n",
    "from model import *\n",
    "from torch.utils.data import Dataset, DataLoader"
   ]
  },
  {
   "cell_type": "code",
   "execution_count": 10,
   "metadata": {},
   "outputs": [],
   "source": [
    "class CustomDataset(Dataset):\n",
    "    def __init__(self, IR_dataset, distance_dataset, ground_truth, filename_dataset):\n",
    "        self.IR_dataset = IR_dataset\n",
    "        self.distance_dataset = distance_dataset\n",
    "        self.ground_truth = ground_truth\n",
    "        self.filename_dataset = filename_dataset\n",
    "\n",
    "    def __len__(self):\n",
    "        return len(self.IR_dataset)\n",
    "\n",
    "    def __getitem__(self, idx):\n",
    "        IR_data = self.IR_dataset[idx]\n",
    "        distance_data = self.distance_dataset[idx]\n",
    "        label = self.ground_truth[idx]\n",
    "        # 将标签转换为one-hot编码\n",
    "        label_one_hot = torch.zeros(LABEL_NUM)\n",
    "        label_one_hot[label] = 1\n",
    "        return IR_data, distance_data, label_one_hot, self.filename_dataset[idx]\n"
   ]
  },
  {
   "cell_type": "code",
   "execution_count": 11,
   "metadata": {},
   "outputs": [],
   "source": [
    "# 转换为PyTorch张量并缩放数据\n",
    "def scale_IR(dataset):\n",
    "    tensor = torch.tensor(dataset, dtype=torch.float32)\n",
    "    max_val = 35. # tensor.max()\n",
    "    min_val = 15. # tensor.min()\n",
    "    scaled_tensor = (tensor - min_val) / (max_val - min_val)\n",
    "    return scaled_tensor, max_val, min_val\n",
    "\n"
   ]
  },
  {
   "cell_type": "code",
   "execution_count": 12,
   "metadata": {},
   "outputs": [
    {
     "name": "stdout",
     "output_type": "stream",
     "text": [
      "distance length is 375\n",
      "IR length is 375\n",
      "gt length is 375\n",
      "Distance dataset 1: 928, (14, 2)\n",
      "IR dataset 1: 928, (9, 64)\n",
      "gt dataset 1: 928\n",
      "filename dataset 1: 928\n",
      "Distance dataset 2: 928, (14, 2)\n",
      "IR dataset 2: 928, (9, 64)\n",
      "gt dataset 2: 928\n",
      "filename dataset 2: 928\n"
     ]
    }
   ],
   "source": [
    "sampled_distance_dataset, sampled_IR_dataset, groudtruth, sampled_filename_dataset = make_dataset()\n",
    "# 示例数据转换\n",
    "distance_tensor = torch.tensor(np.stack(sampled_distance_dataset, axis=0), dtype=torch.float32)\n",
    "IR_tensor, max_IR, min_IR = scale_IR(np.stack(sampled_IR_dataset, axis=0))\n"
   ]
  },
  {
   "cell_type": "code",
   "execution_count": 13,
   "metadata": {},
   "outputs": [],
   "source": [
    "\n",
    "# 创建数据集和数据加载器\n",
    "dataset = CustomDataset(IR_tensor, distance_tensor, groudtruth, sampled_filename_dataset)\n",
    "# dataloader = DataLoader(dataset, batch_size=BATCH, shuffle=True)\n"
   ]
  },
  {
   "cell_type": "code",
   "execution_count": 14,
   "metadata": {},
   "outputs": [],
   "source": [
    "from torch.utils.data import random_split\n",
    "\n",
    "# 随机分割训练集和测试集，假设80%为训练集，20%为测试集\n",
    "train_size = int(0.8 * len(dataset))\n",
    "test_size = len(dataset) - train_size\n",
    "train_dataset, test_dataset = random_split(dataset, [train_size, test_size])\n",
    "\n",
    "# 创建数据加载器\n",
    "train_dataloader = DataLoader(train_dataset, batch_size=BATCH, shuffle=True)\n",
    "test_dataloader = DataLoader(test_dataset, batch_size=BATCH, shuffle=False)\n"
   ]
  },
  {
   "cell_type": "code",
   "execution_count": 15,
   "metadata": {},
   "outputs": [],
   "source": [
    "\n",
    "# 实例化网络\n",
    "net = MyMLP().cuda()\n",
    "# net = MyCNN().cuda()\n",
    "\n",
    "# 定义损失函数和优化器\n",
    "criterion = nn.CrossEntropyLoss()\n",
    "optimizer = optim.Adam(net.parameters(), lr=0.001)\n"
   ]
  },
  {
   "cell_type": "code",
   "execution_count": null,
   "metadata": {},
   "outputs": [
    {
     "name": "stdout",
     "output_type": "stream",
     "text": [
      "[1, 20] loss: 1.610\n",
      "[1, 40] loss: 1.607\n",
      "[1, 60] loss: 1.607\n",
      "[1, 80] loss: 1.604\n",
      "[1, 100] loss: 1.601\n",
      "[1, 120] loss: 1.597\n",
      "[1, 140] loss: 1.591\n",
      "[2, 20] loss: 1.588\n",
      "[2, 40] loss: 1.576\n",
      "[2, 60] loss: 1.554\n",
      "[2, 80] loss: 1.524\n",
      "[2, 100] loss: 1.508\n",
      "[2, 120] loss: 1.472\n",
      "[2, 140] loss: 1.516\n",
      "[3, 20] loss: 1.458\n",
      "[3, 40] loss: 1.430\n",
      "[3, 60] loss: 1.521\n",
      "[3, 80] loss: 1.468\n",
      "[3, 100] loss: 1.470\n",
      "[3, 120] loss: 1.448\n",
      "[3, 140] loss: 1.389\n",
      "[4, 20] loss: 1.400\n",
      "[4, 40] loss: 1.438\n",
      "[4, 60] loss: 1.389\n",
      "[4, 80] loss: 1.439\n",
      "[4, 100] loss: 1.402\n",
      "[4, 120] loss: 1.393\n",
      "[4, 140] loss: 1.442\n",
      "[5, 20] loss: 1.392\n",
      "[5, 40] loss: 1.459\n",
      "[5, 60] loss: 1.382\n",
      "[5, 80] loss: 1.355\n",
      "[5, 100] loss: 1.363\n",
      "[5, 120] loss: 1.326\n",
      "[5, 140] loss: 1.384\n",
      "[6, 20] loss: 1.412\n",
      "[6, 40] loss: 1.385\n",
      "[6, 60] loss: 1.347\n",
      "[6, 80] loss: 1.357\n",
      "[6, 100] loss: 1.376\n",
      "[6, 120] loss: 1.382\n",
      "[6, 140] loss: 1.308\n",
      "[7, 20] loss: 1.368\n",
      "[7, 40] loss: 1.354\n",
      "[7, 60] loss: 1.370\n",
      "[7, 80] loss: 1.293\n",
      "[7, 100] loss: 1.382\n",
      "[7, 120] loss: 1.399\n",
      "[7, 140] loss: 1.365\n",
      "[8, 20] loss: 1.365\n",
      "[8, 40] loss: 1.410\n",
      "[8, 60] loss: 1.321\n",
      "[8, 80] loss: 1.359\n",
      "[8, 100] loss: 1.348\n",
      "[8, 120] loss: 1.344\n",
      "[8, 140] loss: 1.321\n",
      "[9, 20] loss: 1.335\n",
      "[9, 40] loss: 1.390\n",
      "[9, 60] loss: 1.364\n",
      "[9, 80] loss: 1.354\n",
      "[9, 100] loss: 1.327\n",
      "[9, 120] loss: 1.326\n",
      "[9, 140] loss: 1.327\n",
      "[10, 20] loss: 1.355\n",
      "[10, 40] loss: 1.378\n",
      "[10, 60] loss: 1.345\n",
      "[10, 80] loss: 1.390\n",
      "[10, 100] loss: 1.321\n",
      "[10, 120] loss: 1.334\n",
      "[10, 140] loss: 1.287\n",
      "[11, 20] loss: 1.371\n",
      "[11, 40] loss: 1.332\n",
      "[11, 60] loss: 1.306\n",
      "[11, 80] loss: 1.389\n",
      "[11, 100] loss: 1.289\n",
      "[11, 120] loss: 1.367\n",
      "[11, 140] loss: 1.351\n",
      "[12, 20] loss: 1.423\n",
      "[12, 40] loss: 1.395\n",
      "[12, 60] loss: 1.388\n",
      "[12, 80] loss: 1.306\n",
      "[12, 100] loss: 1.299\n",
      "[12, 120] loss: 1.318\n",
      "[12, 140] loss: 1.322\n",
      "[13, 20] loss: 1.353\n",
      "[13, 40] loss: 1.315\n",
      "[13, 60] loss: 1.331\n",
      "[13, 80] loss: 1.376\n",
      "[13, 100] loss: 1.314\n",
      "[13, 120] loss: 1.362\n",
      "[13, 140] loss: 1.329\n",
      "[14, 20] loss: 1.334\n",
      "[14, 40] loss: 1.340\n",
      "[14, 60] loss: 1.317\n",
      "[14, 80] loss: 1.349\n",
      "[14, 100] loss: 1.345\n",
      "[14, 120] loss: 1.339\n",
      "[14, 140] loss: 1.336\n",
      "[15, 20] loss: 1.317\n",
      "[15, 40] loss: 1.345\n",
      "[15, 60] loss: 1.340\n",
      "[15, 80] loss: 1.287\n",
      "[15, 100] loss: 1.386\n",
      "[15, 120] loss: 1.394\n",
      "[15, 140] loss: 1.316\n",
      "[16, 20] loss: 1.338\n",
      "[16, 40] loss: 1.314\n",
      "[16, 60] loss: 1.373\n",
      "[16, 80] loss: 1.319\n",
      "[16, 100] loss: 1.337\n",
      "[16, 120] loss: 1.360\n",
      "[16, 140] loss: 1.305\n",
      "[17, 20] loss: 1.375\n",
      "[17, 40] loss: 1.400\n",
      "[17, 60] loss: 1.332\n",
      "[17, 80] loss: 1.307\n",
      "[17, 100] loss: 1.317\n",
      "[17, 120] loss: 1.368\n",
      "[17, 140] loss: 1.281\n",
      "[18, 20] loss: 1.316\n",
      "[18, 40] loss: 1.355\n",
      "[18, 60] loss: 1.319\n",
      "[18, 80] loss: 1.393\n",
      "[18, 100] loss: 1.322\n",
      "[18, 120] loss: 1.366\n",
      "[18, 140] loss: 1.322\n",
      "[19, 20] loss: 1.279\n",
      "[19, 40] loss: 1.298\n",
      "[19, 60] loss: 1.378\n",
      "[19, 80] loss: 1.354\n",
      "[19, 100] loss: 1.355\n",
      "[19, 120] loss: 1.330\n",
      "[19, 140] loss: 1.367\n",
      "[20, 20] loss: 1.334\n",
      "[20, 40] loss: 1.322\n",
      "[20, 60] loss: 1.330\n",
      "[20, 80] loss: 1.379\n",
      "[20, 100] loss: 1.358\n",
      "[20, 120] loss: 1.320\n",
      "[20, 140] loss: 1.349\n",
      "[21, 20] loss: 1.304\n",
      "[21, 40] loss: 1.288\n",
      "[21, 60] loss: 1.377\n",
      "[21, 80] loss: 1.358\n",
      "[21, 100] loss: 1.370\n",
      "[21, 120] loss: 1.369\n",
      "[21, 140] loss: 1.301\n",
      "[22, 20] loss: 1.340\n",
      "[22, 40] loss: 1.321\n",
      "[22, 60] loss: 1.352\n",
      "[22, 80] loss: 1.369\n",
      "[22, 100] loss: 1.314\n",
      "[22, 120] loss: 1.273\n",
      "[22, 140] loss: 1.381\n",
      "[23, 20] loss: 1.297\n",
      "[23, 40] loss: 1.396\n",
      "[23, 60] loss: 1.337\n",
      "[23, 80] loss: 1.229\n",
      "[23, 100] loss: 1.370\n",
      "[23, 120] loss: 1.379\n",
      "[23, 140] loss: 1.338\n",
      "[24, 20] loss: 1.375\n",
      "[24, 40] loss: 1.353\n",
      "[24, 60] loss: 1.296\n",
      "[24, 80] loss: 1.361\n",
      "[24, 100] loss: 1.327\n",
      "[24, 120] loss: 1.353\n",
      "[24, 140] loss: 1.311\n",
      "[25, 20] loss: 1.303\n",
      "[25, 40] loss: 1.344\n",
      "[25, 60] loss: 1.306\n",
      "[25, 80] loss: 1.356\n",
      "[25, 100] loss: 1.428\n",
      "[25, 120] loss: 1.241\n",
      "[25, 140] loss: 1.348\n",
      "[26, 20] loss: 1.386\n"
     ]
    }
   ],
   "source": [
    "loss_history = []\n",
    "# 训练循环示例\n",
    "for epoch in range(1500):\n",
    "    running_loss = 0.0\n",
    "    for i, (IR_data, distance_data, labels, _) in enumerate(train_dataloader, 0):\n",
    "        IR_data = IR_data.cuda()\n",
    "        distance_data = distance_data.cuda()\n",
    "        labels = labels.cuda()\n",
    "        # 清零梯度\n",
    "        optimizer.zero_grad()\n",
    "\n",
    "        # 前向传播\n",
    "        outputs = net(IR_data, distance_data)\n",
    "        # 计算损失\n",
    "        loss = criterion(outputs, labels)\n",
    "        # 反向传播\n",
    "        loss.backward()\n",
    "        # 更新权重\n",
    "        optimizer.step()\n",
    "\n",
    "        # 打印统计信息\n",
    "        running_loss += loss.cpu().item()\n",
    "        if i % 20 == 19:  # 每10个批次打印一次\n",
    "            loss_mean = running_loss / 20\n",
    "            loss_history.append(loss_mean)\n",
    "            print(f\"[{epoch + 1}, {i + 1}] loss: {loss_mean:.3f}\")\n",
    "            running_loss = 0.0\n"
   ]
  },
  {
   "cell_type": "code",
   "execution_count": 9,
   "metadata": {},
   "outputs": [
    {
     "data": {
      "image/png": "[encoded data removed]",
      "text/plain": [
       "<Figure size 640x480 with 1 Axes>"
      ]
     },
     "metadata": {},
     "output_type": "display_data"
    }
   ],
   "source": [
    "import matplotlib.pyplot as plt\n",
    "\n",
    "plt.plot(loss_history)\n",
    "plt.show()"
   ]
  },
  {
   "cell_type": "code",
   "execution_count": 10,
   "metadata": {},
   "outputs": [
    {
     "name": "stdout",
     "output_type": "stream",
     "text": [
      "Accuracy: 0.8817\n",
      "Precision: 0.8933\n",
      "Recall: 0.8817\n",
      "\n",
      "labels are  ['idle', 'sit', 'sit2stand', 'stand', 'stand2sit']\n",
      "Precision per class: [1.         0.92307692 0.85294118 0.66666667 0.9       ]\n",
      "Recall per class: [0.98148148 0.92307692 0.82857143 0.91666667 0.76595745]\n",
      "\n",
      "混淆矩阵:\n",
      "[[53  0  1  0  0]\n",
      " [ 0 24  0  2  0]\n",
      " [ 0  0 29  2  4]\n",
      " [ 0  2  0 22  0]\n",
      " [ 0  0  4  7 36]]\n"
     ]
    }
   ],
   "source": [
    "from sklearn.metrics import accuracy_score, precision_score, recall_score\n",
    "\n",
    "# 测试循环\n",
    "true_labels = []\n",
    "predicted_labels = []\n",
    "filenames = []\n",
    "with torch.no_grad():\n",
    "    for i, (IR_data, distance_data, labels, filename) in enumerate(test_dataloader):\n",
    "        IR_data = IR_data.cuda()\n",
    "        distance_data = distance_data.cuda()\n",
    "\n",
    "        outputs = net(IR_data, distance_data)\n",
    "        outputs = outputs.cpu()\n",
    "\n",
    "        _, predicted = torch.max(outputs.data, 1)\n",
    "        _, gt = torch.max(labels.data, 1)\n",
    "        \n",
    "        true_labels.extend(gt.numpy())\n",
    "        predicted_labels.extend(predicted.numpy())\n",
    "        filenames += filename\n",
    "\n",
    "# 计算性能指标\n",
    "accuracy = accuracy_score(true_labels, predicted_labels)\n",
    "precision = precision_score(true_labels, predicted_labels, average='weighted', zero_division=1) # macro\n",
    "recall = recall_score(true_labels, predicted_labels, average='weighted', zero_division=1)\n",
    "\n",
    "print(f\"Accuracy: {accuracy:.4f}\")\n",
    "print(f\"Precision: {precision:.4f}\")\n",
    "print(f\"Recall: {recall:.4f}\\n\")\n",
    "\n",
    "# 计算每个类别的精确度和召回率\n",
    "precision_per_class = precision_score(true_labels, predicted_labels, average=None, zero_division=0)\n",
    "recall_per_class = recall_score(true_labels, predicted_labels, average=None, zero_division=0)\n",
    "\n",
    "# 打印结果\n",
    "print(\"labels are \", ['idle', 'sit', 'sit2stand', 'stand', 'stand2sit'])\n",
    "print(f\"Precision per class: {precision_per_class}\")\n",
    "print(f\"Recall per class: {recall_per_class}\\n\")\n",
    "\n",
    "from sklearn.metrics import confusion_matrix\n",
    "\n",
    "# 计算混淆矩阵\n",
    "cm = confusion_matrix(true_labels, predicted_labels)\n",
    "\n",
    "print(\"混淆矩阵:\")\n",
    "print(cm)"
   ]
  },
  {
   "cell_type": "code",
   "execution_count": 11,
   "metadata": {},
   "outputs": [
    {
     "name": "stdout",
     "output_type": "stream",
     "text": [
      "被错误分类的样本: ['offset_-1|low-position-stand_1711697486', 'offset_-1|low-position-sit2stand_1711695090', 'offset_2|low-positon-stand2sit_1711694811', 'offset_0|low-positon-stand2sit_1711694794', 'offset_1|low-positon-stand2sit_1711692690', 'offset_2|low-positon-stand2sit_1711695126', 'offset_2|low-position-sit2stand_1711694841', 'offset_-2|low-positon-stand2sit_1711695852', 'offset_0|low-position-sit2stand_1711695834', 'offset_-1|low-positon-stand2sit_1711694811', 'offset_-2|low-positon-stand2sit_1711692690', 'offset_0|low-positon-stand2sit_1711694811', 'offset_0|low-positon-stand2sit_1711949851', 'offset_-1|low-position-sit_1711692438', 'offset_1|low-position-sit2stand_1711694841', 'offset_-2|low-position-sit_1711692438', 'offset_0|low-position-nobody_1711694453', 'offset_2|low-position-sit2stand_1711695834', 'offset_0|low-position-sit2stand_1711695073', 'offset_1|low-position-stand_1711697486', 'offset_2|low-positon-stand2sit_1711692690', 'offset_1|low-positon-stand2sit_1711694794']\n"
     ]
    }
   ],
   "source": [
    "# 找出被错误分类的样本\n",
    "misclassified_samples = [filenames[i] for i in range(len(filenames)) if true_labels[i] != predicted_labels[i]]\n",
    "print(\"被错误分类的样本:\", misclassified_samples)"
   ]
  },
  {
   "cell_type": "code",
   "execution_count": 12,
   "metadata": {},
   "outputs": [
    {
     "ename": "FileNotFoundError",
     "evalue": "[Errno 2] No such file or directory: '../data/offset/offset_-1|low-position-stand_1711697486.mp4'",
     "output_type": "error",
     "traceback": [
      "\u001b[0;31m---------------------------------------------------------------------------\u001b[0m",
      "\u001b[0;31mFileNotFoundError\u001b[0m                         Traceback (most recent call last)",
      "\u001b[0;32m/tmp/ipykernel_662424/2101567873.py\u001b[0m in \u001b[0;36m<module>\u001b[0;34m\u001b[0m\n\u001b[1;32m     15\u001b[0m     \u001b[0msource_path\u001b[0m \u001b[0;34m=\u001b[0m \u001b[0mPath\u001b[0m\u001b[0;34m(\u001b[0m\u001b[0;34m'..'\u001b[0m\u001b[0;34m)\u001b[0m \u001b[0;34m/\u001b[0m \u001b[0;34m'data'\u001b[0m \u001b[0;34m/\u001b[0m \u001b[0mfilename\u001b[0m\u001b[0;34m.\u001b[0m\u001b[0msplit\u001b[0m\u001b[0;34m(\u001b[0m\u001b[0;34m'_'\u001b[0m\u001b[0;34m)\u001b[0m\u001b[0;34m[\u001b[0m\u001b[0;36m0\u001b[0m\u001b[0;34m]\u001b[0m \u001b[0;34m/\u001b[0m \u001b[0;34mf'{filename}.mp4'\u001b[0m\u001b[0;34m\u001b[0m\u001b[0;34m\u001b[0m\u001b[0m\n\u001b[1;32m     16\u001b[0m     \u001b[0;31m# target_path = os.path.join(target_folder, os.path.basename(filename))\u001b[0m\u001b[0;34m\u001b[0m\u001b[0;34m\u001b[0m\u001b[0;34m\u001b[0m\u001b[0m\n\u001b[0;32m---> 17\u001b[0;31m     \u001b[0mshutil\u001b[0m\u001b[0;34m.\u001b[0m\u001b[0mcopy\u001b[0m\u001b[0;34m(\u001b[0m\u001b[0msource_path\u001b[0m\u001b[0;34m,\u001b[0m \u001b[0mtarget_folder\u001b[0m\u001b[0;34m)\u001b[0m\u001b[0;34m\u001b[0m\u001b[0;34m\u001b[0m\u001b[0m\n\u001b[0m\u001b[1;32m     18\u001b[0m \u001b[0;34m\u001b[0m\u001b[0m\n\u001b[1;32m     19\u001b[0m \u001b[0mprint\u001b[0m\u001b[0;34m(\u001b[0m\u001b[0;34mf\"被错误分类的样本已复制到 {target_folder}\"\u001b[0m\u001b[0;34m)\u001b[0m\u001b[0;34m\u001b[0m\u001b[0;34m\u001b[0m\u001b[0m\n",
      "\u001b[0;32m/home/zwx/anaconda3/envs/gaussian_splatting/lib/python3.7/shutil.py\u001b[0m in \u001b[0;36mcopy\u001b[0;34m(src, dst, follow_symlinks)\u001b[0m\n\u001b[1;32m    246\u001b[0m     \u001b[0;32mif\u001b[0m \u001b[0mos\u001b[0m\u001b[0;34m.\u001b[0m\u001b[0mpath\u001b[0m\u001b[0;34m.\u001b[0m\u001b[0misdir\u001b[0m\u001b[0;34m(\u001b[0m\u001b[0mdst\u001b[0m\u001b[0;34m)\u001b[0m\u001b[0;34m:\u001b[0m\u001b[0;34m\u001b[0m\u001b[0;34m\u001b[0m\u001b[0m\n\u001b[1;32m    247\u001b[0m         \u001b[0mdst\u001b[0m \u001b[0;34m=\u001b[0m \u001b[0mos\u001b[0m\u001b[0;34m.\u001b[0m\u001b[0mpath\u001b[0m\u001b[0;34m.\u001b[0m\u001b[0mjoin\u001b[0m\u001b[0;34m(\u001b[0m\u001b[0mdst\u001b[0m\u001b[0;34m,\u001b[0m \u001b[0mos\u001b[0m\u001b[0;34m.\u001b[0m\u001b[0mpath\u001b[0m\u001b[0;34m.\u001b[0m\u001b[0mbasename\u001b[0m\u001b[0;34m(\u001b[0m\u001b[0msrc\u001b[0m\u001b[0;34m)\u001b[0m\u001b[0;34m)\u001b[0m\u001b[0;34m\u001b[0m\u001b[0;34m\u001b[0m\u001b[0m\n\u001b[0;32m--> 248\u001b[0;31m     \u001b[0mcopyfile\u001b[0m\u001b[0;34m(\u001b[0m\u001b[0msrc\u001b[0m\u001b[0;34m,\u001b[0m \u001b[0mdst\u001b[0m\u001b[0;34m,\u001b[0m \u001b[0mfollow_symlinks\u001b[0m\u001b[0;34m=\u001b[0m\u001b[0mfollow_symlinks\u001b[0m\u001b[0;34m)\u001b[0m\u001b[0;34m\u001b[0m\u001b[0;34m\u001b[0m\u001b[0m\n\u001b[0m\u001b[1;32m    249\u001b[0m     \u001b[0mcopymode\u001b[0m\u001b[0;34m(\u001b[0m\u001b[0msrc\u001b[0m\u001b[0;34m,\u001b[0m \u001b[0mdst\u001b[0m\u001b[0;34m,\u001b[0m \u001b[0mfollow_symlinks\u001b[0m\u001b[0;34m=\u001b[0m\u001b[0mfollow_symlinks\u001b[0m\u001b[0;34m)\u001b[0m\u001b[0;34m\u001b[0m\u001b[0;34m\u001b[0m\u001b[0m\n\u001b[1;32m    250\u001b[0m     \u001b[0;32mreturn\u001b[0m \u001b[0mdst\u001b[0m\u001b[0;34m\u001b[0m\u001b[0;34m\u001b[0m\u001b[0m\n",
      "\u001b[0;32m/home/zwx/anaconda3/envs/gaussian_splatting/lib/python3.7/shutil.py\u001b[0m in \u001b[0;36mcopyfile\u001b[0;34m(src, dst, follow_symlinks)\u001b[0m\n\u001b[1;32m    118\u001b[0m         \u001b[0mos\u001b[0m\u001b[0;34m.\u001b[0m\u001b[0msymlink\u001b[0m\u001b[0;34m(\u001b[0m\u001b[0mos\u001b[0m\u001b[0;34m.\u001b[0m\u001b[0mreadlink\u001b[0m\u001b[0;34m(\u001b[0m\u001b[0msrc\u001b[0m\u001b[0;34m)\u001b[0m\u001b[0;34m,\u001b[0m \u001b[0mdst\u001b[0m\u001b[0;34m)\u001b[0m\u001b[0;34m\u001b[0m\u001b[0;34m\u001b[0m\u001b[0m\n\u001b[1;32m    119\u001b[0m     \u001b[0;32melse\u001b[0m\u001b[0;34m:\u001b[0m\u001b[0;34m\u001b[0m\u001b[0;34m\u001b[0m\u001b[0m\n\u001b[0;32m--> 120\u001b[0;31m         \u001b[0;32mwith\u001b[0m \u001b[0mopen\u001b[0m\u001b[0;34m(\u001b[0m\u001b[0msrc\u001b[0m\u001b[0;34m,\u001b[0m \u001b[0;34m'rb'\u001b[0m\u001b[0;34m)\u001b[0m \u001b[0;32mas\u001b[0m \u001b[0mfsrc\u001b[0m\u001b[0;34m:\u001b[0m\u001b[0;34m\u001b[0m\u001b[0;34m\u001b[0m\u001b[0m\n\u001b[0m\u001b[1;32m    121\u001b[0m             \u001b[0;32mwith\u001b[0m \u001b[0mopen\u001b[0m\u001b[0;34m(\u001b[0m\u001b[0mdst\u001b[0m\u001b[0;34m,\u001b[0m \u001b[0;34m'wb'\u001b[0m\u001b[0;34m)\u001b[0m \u001b[0;32mas\u001b[0m \u001b[0mfdst\u001b[0m\u001b[0;34m:\u001b[0m\u001b[0;34m\u001b[0m\u001b[0;34m\u001b[0m\u001b[0m\n\u001b[1;32m    122\u001b[0m                 \u001b[0mcopyfileobj\u001b[0m\u001b[0;34m(\u001b[0m\u001b[0mfsrc\u001b[0m\u001b[0;34m,\u001b[0m \u001b[0mfdst\u001b[0m\u001b[0;34m)\u001b[0m\u001b[0;34m\u001b[0m\u001b[0;34m\u001b[0m\u001b[0m\n",
      "\u001b[0;31mFileNotFoundError\u001b[0m: [Errno 2] No such file or directory: '../data/offset/offset_-1|low-position-stand_1711697486.mp4'"
     ]
    }
   ],
   "source": [
    "import shutil\n",
    "import os\n",
    "from datetime import datetime\n",
    "from pathlib import Path\n",
    "\n",
    "# 创建目标文件夹\n",
    "timestamp = datetime.now().strftime(\"%Y%m%d-%H%M%S\")\n",
    "target_folder = os.path.join(\"wrongs\", timestamp)\n",
    "os.makedirs(target_folder, exist_ok=True)\n",
    "\n",
    "# 复制被错误分类的样本到目标文件夹\n",
    "for filename in misclassified_samples:\n",
    "    # 假设原始文件位于当前文件夹中\n",
    "    real_filename = filename.split('|')[1]\n",
    "    source_path = Path('..') / 'data' / real_filename.split('_')[0] / f'{real_filename}.mp4'\n",
    "    # target_path = os.path.join(target_folder, os.path.basename(filename))\n",
    "    shutil.copy(source_path, target_folder)\n",
    "\n",
    "print(f\"被错误分类的样本已复制到 {target_folder}\")\n"
   ]
  },
  {
   "cell_type": "code",
   "execution_count": null,
   "metadata": {},
   "outputs": [
    {
     "name": "stdout",
     "output_type": "stream",
     "text": [
      "Total parameters: 3389\n"
     ]
    }
   ],
   "source": [
    "total_params = sum(p.numel() for p in net.parameters() if p.requires_grad)\n",
    "print(f\"Total parameters: {total_params}\")"
   ]
  },
  {
   "cell_type": "code",
   "execution_count": 14,
   "metadata": {},
   "outputs": [],
   "source": [
    "torch.save(net.state_dict(), 'checkpoints/high/F9-14-MLP221-Fea4-24-gap32-0d84.pth')"
   ]
  }
 ],
 "metadata": {
  "kernelspec": {
   "display_name": "Python 3 (ipykernel)",
   "language": "python",
   "name": "python3"
  },
  "language_info": {
   "codemirror_mode": {
    "name": "ipython",
    "version": 3
   },
   "file_extension": ".py",
   "mimetype": "text/x-python",
   "name": "python",
   "nbconvert_exporter": "python",
   "pygments_lexer": "ipython3",
   "version": "3.8.18"
  }
 },
 "nbformat": 4,
 "nbformat_minor": 4
}
